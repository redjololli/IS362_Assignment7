{
 "cells": [
  {
   "cell_type": "code",
   "execution_count": 1,
   "metadata": {},
   "outputs": [],
   "source": [
    "# Load the information into a pandas dataframe.\n",
    "import pandas as pd\n",
    "import numpy as np"
   ]
  },
  {
   "cell_type": "code",
   "execution_count": 2,
   "metadata": {},
   "outputs": [
    {
     "data": {
      "text/html": [
       "<div>\n",
       "<style scoped>\n",
       "    .dataframe tbody tr th:only-of-type {\n",
       "        vertical-align: middle;\n",
       "    }\n",
       "\n",
       "    .dataframe tbody tr th {\n",
       "        vertical-align: top;\n",
       "    }\n",
       "\n",
       "    .dataframe thead th {\n",
       "        text-align: right;\n",
       "    }\n",
       "</style>\n",
       "<table border=\"1\" class=\"dataframe\">\n",
       "  <thead>\n",
       "    <tr style=\"text-align: right;\">\n",
       "      <th></th>\n",
       "      <th>LOTR</th>\n",
       "      <th>GOT</th>\n",
       "      <th>Avangers</th>\n",
       "      <th>Mulan</th>\n",
       "      <th>Pets_Reunite</th>\n",
       "      <th>The_Mandalorian</th>\n",
       "    </tr>\n",
       "    <tr>\n",
       "      <th>Names</th>\n",
       "      <th></th>\n",
       "      <th></th>\n",
       "      <th></th>\n",
       "      <th></th>\n",
       "      <th></th>\n",
       "      <th></th>\n",
       "    </tr>\n",
       "  </thead>\n",
       "  <tbody>\n",
       "    <tr>\n",
       "      <th>Alex</th>\n",
       "      <td>5.0</td>\n",
       "      <td>5.0</td>\n",
       "      <td>2.0</td>\n",
       "      <td>NaN</td>\n",
       "      <td>1.0</td>\n",
       "      <td>4.0</td>\n",
       "    </tr>\n",
       "    <tr>\n",
       "      <th>Ben</th>\n",
       "      <td>5.0</td>\n",
       "      <td>5.0</td>\n",
       "      <td>NaN</td>\n",
       "      <td>3.0</td>\n",
       "      <td>3.0</td>\n",
       "      <td>5.0</td>\n",
       "    </tr>\n",
       "    <tr>\n",
       "      <th>Ed</th>\n",
       "      <td>1.0</td>\n",
       "      <td>5.0</td>\n",
       "      <td>3.0</td>\n",
       "      <td>3.0</td>\n",
       "      <td>NaN</td>\n",
       "      <td>5.0</td>\n",
       "    </tr>\n",
       "    <tr>\n",
       "      <th>Artur</th>\n",
       "      <td>4.0</td>\n",
       "      <td>NaN</td>\n",
       "      <td>3.0</td>\n",
       "      <td>4.0</td>\n",
       "      <td>1.0</td>\n",
       "      <td>5.0</td>\n",
       "    </tr>\n",
       "    <tr>\n",
       "      <th>Aria</th>\n",
       "      <td>NaN</td>\n",
       "      <td>5.0</td>\n",
       "      <td>4.0</td>\n",
       "      <td>5.0</td>\n",
       "      <td>2.0</td>\n",
       "      <td>NaN</td>\n",
       "    </tr>\n",
       "  </tbody>\n",
       "</table>\n",
       "</div>"
      ],
      "text/plain": [
       "       LOTR  GOT  Avangers  Mulan  Pets_Reunite  The_Mandalorian\n",
       "Names                                                           \n",
       "Alex    5.0  5.0       2.0    NaN           1.0              4.0\n",
       "Ben     5.0  5.0       NaN    3.0           3.0              5.0\n",
       "Ed      1.0  5.0       3.0    3.0           NaN              5.0\n",
       "Artur   4.0  NaN       3.0    4.0           1.0              5.0\n",
       "Aria    NaN  5.0       4.0    5.0           2.0              NaN"
      ]
     },
     "execution_count": 2,
     "metadata": {},
     "output_type": "execute_result"
    }
   ],
   "source": [
    "movieRatings = pd.read_csv('movies.csv', index_col = 0)\n",
    "movieRatings"
   ]
  },
  {
   "cell_type": "code",
   "execution_count": 3,
   "metadata": {},
   "outputs": [
    {
     "data": {
      "text/html": [
       "<div>\n",
       "<style scoped>\n",
       "    .dataframe tbody tr th:only-of-type {\n",
       "        vertical-align: middle;\n",
       "    }\n",
       "\n",
       "    .dataframe tbody tr th {\n",
       "        vertical-align: top;\n",
       "    }\n",
       "\n",
       "    .dataframe thead th {\n",
       "        text-align: right;\n",
       "    }\n",
       "</style>\n",
       "<table border=\"1\" class=\"dataframe\">\n",
       "  <thead>\n",
       "    <tr style=\"text-align: right;\">\n",
       "      <th></th>\n",
       "      <th>LOTR</th>\n",
       "      <th>GOT</th>\n",
       "      <th>Avangers</th>\n",
       "      <th>Mulan</th>\n",
       "      <th>Pets_Reunite</th>\n",
       "      <th>The_Mandalorian</th>\n",
       "    </tr>\n",
       "    <tr>\n",
       "      <th>Names</th>\n",
       "      <th></th>\n",
       "      <th></th>\n",
       "      <th></th>\n",
       "      <th></th>\n",
       "      <th></th>\n",
       "      <th></th>\n",
       "    </tr>\n",
       "  </thead>\n",
       "  <tbody>\n",
       "    <tr>\n",
       "      <th>Alex</th>\n",
       "      <td>5.0</td>\n",
       "      <td>5.0</td>\n",
       "      <td>2.0</td>\n",
       "      <td>0.0</td>\n",
       "      <td>1.0</td>\n",
       "      <td>4.0</td>\n",
       "    </tr>\n",
       "    <tr>\n",
       "      <th>Ben</th>\n",
       "      <td>5.0</td>\n",
       "      <td>5.0</td>\n",
       "      <td>0.0</td>\n",
       "      <td>3.0</td>\n",
       "      <td>3.0</td>\n",
       "      <td>5.0</td>\n",
       "    </tr>\n",
       "    <tr>\n",
       "      <th>Ed</th>\n",
       "      <td>1.0</td>\n",
       "      <td>5.0</td>\n",
       "      <td>3.0</td>\n",
       "      <td>3.0</td>\n",
       "      <td>0.0</td>\n",
       "      <td>5.0</td>\n",
       "    </tr>\n",
       "    <tr>\n",
       "      <th>Artur</th>\n",
       "      <td>4.0</td>\n",
       "      <td>0.0</td>\n",
       "      <td>3.0</td>\n",
       "      <td>4.0</td>\n",
       "      <td>1.0</td>\n",
       "      <td>5.0</td>\n",
       "    </tr>\n",
       "    <tr>\n",
       "      <th>Aria</th>\n",
       "      <td>0.0</td>\n",
       "      <td>5.0</td>\n",
       "      <td>4.0</td>\n",
       "      <td>5.0</td>\n",
       "      <td>2.0</td>\n",
       "      <td>0.0</td>\n",
       "    </tr>\n",
       "  </tbody>\n",
       "</table>\n",
       "</div>"
      ],
      "text/plain": [
       "       LOTR  GOT  Avangers  Mulan  Pets_Reunite  The_Mandalorian\n",
       "Names                                                           \n",
       "Alex    5.0  5.0       2.0    0.0           1.0              4.0\n",
       "Ben     5.0  5.0       0.0    3.0           3.0              5.0\n",
       "Ed      1.0  5.0       3.0    3.0           0.0              5.0\n",
       "Artur   4.0  0.0       3.0    4.0           1.0              5.0\n",
       "Aria    0.0  5.0       4.0    5.0           2.0              0.0"
      ]
     },
     "execution_count": 3,
     "metadata": {},
     "output_type": "execute_result"
    }
   ],
   "source": [
    "# Replace all 'NaN' values with 0, and calculate average ratings.\n",
    "\n",
    "movieRatings.fillna(value=0, inplace=True)\n",
    "movieRatings"
   ]
  },
  {
   "cell_type": "code",
   "execution_count": 4,
   "metadata": {},
   "outputs": [
    {
     "data": {
      "text/plain": [
       "Names\n",
       "Alex     2.833333\n",
       "Ben      3.500000\n",
       "Ed       2.833333\n",
       "Artur    2.833333\n",
       "Aria     2.666667\n",
       "dtype: float64"
      ]
     },
     "execution_count": 4,
     "metadata": {},
     "output_type": "execute_result"
    }
   ],
   "source": [
    "# Average rating per user.\n",
    "userAverage = movieRatings.mean(axis = 1)\n",
    "userAverage"
   ]
  },
  {
   "cell_type": "code",
   "execution_count": 5,
   "metadata": {},
   "outputs": [
    {
     "data": {
      "text/plain": [
       "LOTR               3.0\n",
       "GOT                4.0\n",
       "Avangers           2.4\n",
       "Mulan              3.0\n",
       "Pets_Reunite       1.4\n",
       "The_Mandalorian    3.8\n",
       "dtype: float64"
      ]
     },
     "execution_count": 5,
     "metadata": {},
     "output_type": "execute_result"
    }
   ],
   "source": [
    "# Average ratings per movie.\n",
    "movieRatings.mean()"
   ]
  },
  {
   "cell_type": "code",
   "execution_count": 6,
   "metadata": {},
   "outputs": [
    {
     "data": {
      "text/html": [
       "<div>\n",
       "<style scoped>\n",
       "    .dataframe tbody tr th:only-of-type {\n",
       "        vertical-align: middle;\n",
       "    }\n",
       "\n",
       "    .dataframe tbody tr th {\n",
       "        vertical-align: top;\n",
       "    }\n",
       "\n",
       "    .dataframe thead th {\n",
       "        text-align: right;\n",
       "    }\n",
       "</style>\n",
       "<table border=\"1\" class=\"dataframe\">\n",
       "  <thead>\n",
       "    <tr style=\"text-align: right;\">\n",
       "      <th></th>\n",
       "      <th>LOTR</th>\n",
       "      <th>GOT</th>\n",
       "      <th>Avangers</th>\n",
       "      <th>Mulan</th>\n",
       "      <th>Pets_Reunite</th>\n",
       "      <th>The_Mandalorian</th>\n",
       "    </tr>\n",
       "    <tr>\n",
       "      <th>Names</th>\n",
       "      <th></th>\n",
       "      <th></th>\n",
       "      <th></th>\n",
       "      <th></th>\n",
       "      <th></th>\n",
       "      <th></th>\n",
       "    </tr>\n",
       "  </thead>\n",
       "  <tbody>\n",
       "    <tr>\n",
       "      <th>Alex</th>\n",
       "      <td>1.0</td>\n",
       "      <td>1.0</td>\n",
       "      <td>0.50</td>\n",
       "      <td>0.0</td>\n",
       "      <td>0.333333</td>\n",
       "      <td>0.8</td>\n",
       "    </tr>\n",
       "    <tr>\n",
       "      <th>Ben</th>\n",
       "      <td>1.0</td>\n",
       "      <td>1.0</td>\n",
       "      <td>0.00</td>\n",
       "      <td>0.6</td>\n",
       "      <td>1.000000</td>\n",
       "      <td>1.0</td>\n",
       "    </tr>\n",
       "    <tr>\n",
       "      <th>Ed</th>\n",
       "      <td>0.2</td>\n",
       "      <td>1.0</td>\n",
       "      <td>0.75</td>\n",
       "      <td>0.6</td>\n",
       "      <td>0.000000</td>\n",
       "      <td>1.0</td>\n",
       "    </tr>\n",
       "    <tr>\n",
       "      <th>Artur</th>\n",
       "      <td>0.8</td>\n",
       "      <td>0.0</td>\n",
       "      <td>0.75</td>\n",
       "      <td>0.8</td>\n",
       "      <td>0.333333</td>\n",
       "      <td>1.0</td>\n",
       "    </tr>\n",
       "    <tr>\n",
       "      <th>Aria</th>\n",
       "      <td>0.0</td>\n",
       "      <td>1.0</td>\n",
       "      <td>1.00</td>\n",
       "      <td>1.0</td>\n",
       "      <td>0.666667</td>\n",
       "      <td>0.0</td>\n",
       "    </tr>\n",
       "  </tbody>\n",
       "</table>\n",
       "</div>"
      ],
      "text/plain": [
       "       LOTR  GOT  Avangers  Mulan  Pets_Reunite  The_Mandalorian\n",
       "Names                                                           \n",
       "Alex    1.0  1.0      0.50    0.0      0.333333              0.8\n",
       "Ben     1.0  1.0      0.00    0.6      1.000000              1.0\n",
       "Ed      0.2  1.0      0.75    0.6      0.000000              1.0\n",
       "Artur   0.8  0.0      0.75    0.8      0.333333              1.0\n",
       "Aria    0.0  1.0      1.00    1.0      0.666667              0.0"
      ]
     },
     "execution_count": 6,
     "metadata": {},
     "output_type": "execute_result"
    }
   ],
   "source": [
    "# New pandas dataframe, with normalized ratings for each user\n",
    "normalized = (movieRatings - movieRatings.min()) / (movieRatings.max() - movieRatings.min())\n",
    "normalized"
   ]
  },
  {
   "cell_type": "code",
   "execution_count": 7,
   "metadata": {},
   "outputs": [
    {
     "data": {
      "text/plain": [
       "Names\n",
       "Alex     0.605556\n",
       "Ben      0.766667\n",
       "Ed       0.591667\n",
       "Artur    0.613889\n",
       "Aria     0.611111\n",
       "dtype: float64"
      ]
     },
     "execution_count": 7,
     "metadata": {},
     "output_type": "execute_result"
    }
   ],
   "source": [
    "# Normalized average ratings per user\n",
    "normalized.mean(axis = 1)"
   ]
  },
  {
   "cell_type": "markdown",
   "metadata": {},
   "source": [
    "### Conclusion\n",
    "- Normalized data has its advantages and its disadvantages. An advantage is it gives users a better scale of viewing 'normal' data that can be used in graphs for plotting if needed for graphical viewing.  A disadvantage of normalized data can be the 'null' values. It creates null values which can become unrealiable data and confusing to the user. "
   ]
  },
  {
   "cell_type": "markdown",
   "metadata": {},
   "source": [
    "### STANDARDIZED DATA"
   ]
  },
  {
   "cell_type": "code",
   "execution_count": 10,
   "metadata": {},
   "outputs": [
    {
     "data": {
      "text/html": [
       "<div>\n",
       "<style scoped>\n",
       "    .dataframe tbody tr th:only-of-type {\n",
       "        vertical-align: middle;\n",
       "    }\n",
       "\n",
       "    .dataframe tbody tr th {\n",
       "        vertical-align: top;\n",
       "    }\n",
       "\n",
       "    .dataframe thead th {\n",
       "        text-align: right;\n",
       "    }\n",
       "</style>\n",
       "<table border=\"1\" class=\"dataframe\">\n",
       "  <thead>\n",
       "    <tr style=\"text-align: right;\">\n",
       "      <th></th>\n",
       "      <th>LOTR</th>\n",
       "      <th>GOT</th>\n",
       "      <th>Avangers</th>\n",
       "      <th>Mulan</th>\n",
       "      <th>Pets_Reunite</th>\n",
       "      <th>The_Mandalorian</th>\n",
       "    </tr>\n",
       "    <tr>\n",
       "      <th>Names</th>\n",
       "      <th></th>\n",
       "      <th></th>\n",
       "      <th></th>\n",
       "      <th></th>\n",
       "      <th></th>\n",
       "      <th></th>\n",
       "    </tr>\n",
       "  </thead>\n",
       "  <tbody>\n",
       "    <tr>\n",
       "      <th>Alex</th>\n",
       "      <td>0.852803</td>\n",
       "      <td>0.447214</td>\n",
       "      <td>-0.263752</td>\n",
       "      <td>-1.603567</td>\n",
       "      <td>-0.350823</td>\n",
       "      <td>0.092253</td>\n",
       "    </tr>\n",
       "    <tr>\n",
       "      <th>Ben</th>\n",
       "      <td>0.852803</td>\n",
       "      <td>0.447214</td>\n",
       "      <td>-1.582513</td>\n",
       "      <td>0.000000</td>\n",
       "      <td>1.403293</td>\n",
       "      <td>0.553519</td>\n",
       "    </tr>\n",
       "    <tr>\n",
       "      <th>Ed</th>\n",
       "      <td>-0.852803</td>\n",
       "      <td>0.447214</td>\n",
       "      <td>0.395628</td>\n",
       "      <td>0.000000</td>\n",
       "      <td>-1.227881</td>\n",
       "      <td>0.553519</td>\n",
       "    </tr>\n",
       "    <tr>\n",
       "      <th>Artur</th>\n",
       "      <td>0.426401</td>\n",
       "      <td>-1.788854</td>\n",
       "      <td>0.395628</td>\n",
       "      <td>0.534522</td>\n",
       "      <td>-0.350823</td>\n",
       "      <td>0.553519</td>\n",
       "    </tr>\n",
       "    <tr>\n",
       "      <th>Aria</th>\n",
       "      <td>-1.279204</td>\n",
       "      <td>0.447214</td>\n",
       "      <td>1.055009</td>\n",
       "      <td>1.069045</td>\n",
       "      <td>0.526235</td>\n",
       "      <td>-1.752809</td>\n",
       "    </tr>\n",
       "  </tbody>\n",
       "</table>\n",
       "</div>"
      ],
      "text/plain": [
       "           LOTR       GOT  Avangers     Mulan  Pets_Reunite  The_Mandalorian\n",
       "Names                                                                       \n",
       "Alex   0.852803  0.447214 -0.263752 -1.603567     -0.350823         0.092253\n",
       "Ben    0.852803  0.447214 -1.582513  0.000000      1.403293         0.553519\n",
       "Ed    -0.852803  0.447214  0.395628  0.000000     -1.227881         0.553519\n",
       "Artur  0.426401 -1.788854  0.395628  0.534522     -0.350823         0.553519\n",
       "Aria  -1.279204  0.447214  1.055009  1.069045      0.526235        -1.752809"
      ]
     },
     "execution_count": 10,
     "metadata": {},
     "output_type": "execute_result"
    }
   ],
   "source": [
    "movie_standardized = (movieRatings - movieRatings.mean())/movieRatings.std()\n",
    "movie_standardized"
   ]
  },
  {
   "cell_type": "code",
   "execution_count": 11,
   "metadata": {},
   "outputs": [
    {
     "data": {
      "text/plain": [
       "Names\n",
       "Alex    -0.137646\n",
       "Ben      0.279052\n",
       "Ed      -0.114054\n",
       "Artur   -0.038268\n",
       "Aria     0.010915\n",
       "dtype: float64"
      ]
     },
     "execution_count": 11,
     "metadata": {},
     "output_type": "execute_result"
    }
   ],
   "source": [
    "# Average rating per user.\n",
    "movie_standardized.mean(axis=1)"
   ]
  },
  {
   "cell_type": "code",
   "execution_count": 12,
   "metadata": {},
   "outputs": [
    {
     "data": {
      "text/plain": [
       "LOTR              -4.440892e-17\n",
       "GOT                1.110223e-17\n",
       "Avangers           8.881784e-17\n",
       "Mulan              0.000000e+00\n",
       "Pets_Reunite       1.110223e-16\n",
       "The_Mandalorian    8.881784e-17\n",
       "dtype: float64"
      ]
     },
     "execution_count": 12,
     "metadata": {},
     "output_type": "execute_result"
    }
   ],
   "source": [
    "# Average rating per movie\n",
    "movie_standardized.mean(axis=0)"
   ]
  },
  {
   "cell_type": "markdown",
   "metadata": {},
   "source": [
    "### Conclusion\n",
    "- Standardized Data can achieve better performance if the data has a consistent scale or distribution, helps center the data around 0 and to scale in respect to standard deviation. "
   ]
  },
  {
   "cell_type": "code",
   "execution_count": null,
   "metadata": {},
   "outputs": [],
   "source": []
  }
 ],
 "metadata": {
  "kernelspec": {
   "display_name": "Python 3",
   "language": "python",
   "name": "python3"
  },
  "language_info": {
   "codemirror_mode": {
    "name": "ipython",
    "version": 3
   },
   "file_extension": ".py",
   "mimetype": "text/x-python",
   "name": "python",
   "nbconvert_exporter": "python",
   "pygments_lexer": "ipython3",
   "version": "3.8.3"
  }
 },
 "nbformat": 4,
 "nbformat_minor": 4
}
